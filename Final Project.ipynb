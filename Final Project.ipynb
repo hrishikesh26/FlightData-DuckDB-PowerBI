{
 "cells": [
  {
   "cell_type": "code",
   "execution_count": 2,
   "id": "bf8a254c",
   "metadata": {},
   "outputs": [
    {
     "name": "stdout",
     "output_type": "stream",
     "text": [
      "Database file deleted successfully.\n"
     ]
    }
   ],
   "source": [
    "import duckdb\n",
    "import os\n",
    "\n",
    "# Close the DuckDB connection\n",
    "con.close()\n",
    "\n",
    "# Specify the path to the DuckDB database file\n",
    "database_file = 'air_flight_database.db'\n",
    "\n",
    "# Check if the database file exists\n",
    "if os.path.exists(database_file):\n",
    "    # If it exists, delete the database file\n",
    "    os.remove(database_file)\n",
    "    print(\"Database file deleted successfully.\")\n",
    "else:\n",
    "    print(\"Database file does not exist.\")\n"
   ]
  },
  {
   "cell_type": "code",
   "execution_count": 3,
   "id": "8ed1046c",
   "metadata": {},
   "outputs": [],
   "source": [
    "import duckdb\n",
    "import pandas as pd\n",
    "import os\n",
    "\n",
    "# Connect to DuckDB\n",
    "con = duckdb.connect(database='air_flight_database.db', read_only=False)"
   ]
  },
  {
   "cell_type": "code",
   "execution_count": 4,
   "id": "32703014",
   "metadata": {},
   "outputs": [
    {
     "name": "stdout",
     "output_type": "stream",
     "text": [
      "Number of rows in bronze table: 336776\n"
     ]
    }
   ],
   "source": [
    "# Load data from flights.csv into a DataFrame\n",
    "df_flights = pd.read_csv('flights.csv')\n",
    "\n",
    "# Clean and transform data and create the bronze table\n",
    "con.execute('''\n",
    "CREATE TABLE bronze AS\n",
    "SELECT\n",
    "    id, year, month, day, dep_time, sched_dep_time, dep_delay, arr_time, sched_arr_time, arr_delay,\n",
    "    carrier, flight, tailnum, origin, dest, air_time, distance, hour, minute, time_hour, name\n",
    "FROM df_flights\n",
    "WHERE dep_delay IS NOT NULL AND arr_delay IS NOT NULL\n",
    "''')\n",
    "\n",
    "# Register the bronze table\n",
    "con.register('bronze', df_flights)\n",
    "\n",
    "# Verify the number of rows in the bronze table\n",
    "row_count = con.execute('SELECT COUNT(*) FROM bronze').fetchone()[0]\n",
    "print(\"Number of rows in bronze table:\", row_count)"
   ]
  },
  {
   "cell_type": "code",
   "execution_count": 5,
   "id": "e30e84c1",
   "metadata": {
    "scrolled": true
   },
   "outputs": [
    {
     "data": {
      "text/html": [
       "<div>\n",
       "<style scoped>\n",
       "    .dataframe tbody tr th:only-of-type {\n",
       "        vertical-align: middle;\n",
       "    }\n",
       "\n",
       "    .dataframe tbody tr th {\n",
       "        vertical-align: top;\n",
       "    }\n",
       "\n",
       "    .dataframe thead th {\n",
       "        text-align: right;\n",
       "    }\n",
       "</style>\n",
       "<table border=\"1\" class=\"dataframe\">\n",
       "  <thead>\n",
       "    <tr style=\"text-align: right;\">\n",
       "      <th></th>\n",
       "      <th>id</th>\n",
       "      <th>year</th>\n",
       "      <th>month</th>\n",
       "      <th>day</th>\n",
       "      <th>dep_time</th>\n",
       "      <th>sched_dep_time</th>\n",
       "      <th>dep_delay</th>\n",
       "      <th>arr_time</th>\n",
       "      <th>sched_arr_time</th>\n",
       "      <th>arr_delay</th>\n",
       "      <th>...</th>\n",
       "      <th>flight</th>\n",
       "      <th>tailnum</th>\n",
       "      <th>origin</th>\n",
       "      <th>dest</th>\n",
       "      <th>air_time</th>\n",
       "      <th>distance</th>\n",
       "      <th>hour</th>\n",
       "      <th>minute</th>\n",
       "      <th>time_hour</th>\n",
       "      <th>name</th>\n",
       "    </tr>\n",
       "  </thead>\n",
       "  <tbody>\n",
       "    <tr>\n",
       "      <th>0</th>\n",
       "      <td>0</td>\n",
       "      <td>2013</td>\n",
       "      <td>1</td>\n",
       "      <td>1</td>\n",
       "      <td>517.0</td>\n",
       "      <td>515</td>\n",
       "      <td>2.0</td>\n",
       "      <td>830.0</td>\n",
       "      <td>819</td>\n",
       "      <td>11.0</td>\n",
       "      <td>...</td>\n",
       "      <td>1545</td>\n",
       "      <td>N14228</td>\n",
       "      <td>EWR</td>\n",
       "      <td>IAH</td>\n",
       "      <td>227.0</td>\n",
       "      <td>1400</td>\n",
       "      <td>5</td>\n",
       "      <td>15</td>\n",
       "      <td>2013-01-01 05:00:00</td>\n",
       "      <td>United Air Lines Inc.</td>\n",
       "    </tr>\n",
       "    <tr>\n",
       "      <th>1</th>\n",
       "      <td>1</td>\n",
       "      <td>2013</td>\n",
       "      <td>1</td>\n",
       "      <td>1</td>\n",
       "      <td>533.0</td>\n",
       "      <td>529</td>\n",
       "      <td>4.0</td>\n",
       "      <td>850.0</td>\n",
       "      <td>830</td>\n",
       "      <td>20.0</td>\n",
       "      <td>...</td>\n",
       "      <td>1714</td>\n",
       "      <td>N24211</td>\n",
       "      <td>LGA</td>\n",
       "      <td>IAH</td>\n",
       "      <td>227.0</td>\n",
       "      <td>1416</td>\n",
       "      <td>5</td>\n",
       "      <td>29</td>\n",
       "      <td>2013-01-01 05:00:00</td>\n",
       "      <td>United Air Lines Inc.</td>\n",
       "    </tr>\n",
       "    <tr>\n",
       "      <th>2</th>\n",
       "      <td>2</td>\n",
       "      <td>2013</td>\n",
       "      <td>1</td>\n",
       "      <td>1</td>\n",
       "      <td>542.0</td>\n",
       "      <td>540</td>\n",
       "      <td>2.0</td>\n",
       "      <td>923.0</td>\n",
       "      <td>850</td>\n",
       "      <td>33.0</td>\n",
       "      <td>...</td>\n",
       "      <td>1141</td>\n",
       "      <td>N619AA</td>\n",
       "      <td>JFK</td>\n",
       "      <td>MIA</td>\n",
       "      <td>160.0</td>\n",
       "      <td>1089</td>\n",
       "      <td>5</td>\n",
       "      <td>40</td>\n",
       "      <td>2013-01-01 05:00:00</td>\n",
       "      <td>American Airlines Inc.</td>\n",
       "    </tr>\n",
       "    <tr>\n",
       "      <th>3</th>\n",
       "      <td>3</td>\n",
       "      <td>2013</td>\n",
       "      <td>1</td>\n",
       "      <td>1</td>\n",
       "      <td>544.0</td>\n",
       "      <td>545</td>\n",
       "      <td>-1.0</td>\n",
       "      <td>1004.0</td>\n",
       "      <td>1022</td>\n",
       "      <td>-18.0</td>\n",
       "      <td>...</td>\n",
       "      <td>725</td>\n",
       "      <td>N804JB</td>\n",
       "      <td>JFK</td>\n",
       "      <td>BQN</td>\n",
       "      <td>183.0</td>\n",
       "      <td>1576</td>\n",
       "      <td>5</td>\n",
       "      <td>45</td>\n",
       "      <td>2013-01-01 05:00:00</td>\n",
       "      <td>JetBlue Airways</td>\n",
       "    </tr>\n",
       "    <tr>\n",
       "      <th>4</th>\n",
       "      <td>4</td>\n",
       "      <td>2013</td>\n",
       "      <td>1</td>\n",
       "      <td>1</td>\n",
       "      <td>554.0</td>\n",
       "      <td>600</td>\n",
       "      <td>-6.0</td>\n",
       "      <td>812.0</td>\n",
       "      <td>837</td>\n",
       "      <td>-25.0</td>\n",
       "      <td>...</td>\n",
       "      <td>461</td>\n",
       "      <td>N668DN</td>\n",
       "      <td>LGA</td>\n",
       "      <td>ATL</td>\n",
       "      <td>116.0</td>\n",
       "      <td>762</td>\n",
       "      <td>6</td>\n",
       "      <td>0</td>\n",
       "      <td>2013-01-01 06:00:00</td>\n",
       "      <td>Delta Air Lines Inc.</td>\n",
       "    </tr>\n",
       "  </tbody>\n",
       "</table>\n",
       "<p>5 rows × 21 columns</p>\n",
       "</div>"
      ],
      "text/plain": [
       "   id  year  month  day  dep_time  sched_dep_time  dep_delay  arr_time   \n",
       "0   0  2013      1    1     517.0             515        2.0     830.0  \\\n",
       "1   1  2013      1    1     533.0             529        4.0     850.0   \n",
       "2   2  2013      1    1     542.0             540        2.0     923.0   \n",
       "3   3  2013      1    1     544.0             545       -1.0    1004.0   \n",
       "4   4  2013      1    1     554.0             600       -6.0     812.0   \n",
       "\n",
       "   sched_arr_time  arr_delay  ... flight  tailnum origin dest air_time   \n",
       "0             819       11.0  ...   1545   N14228    EWR  IAH    227.0  \\\n",
       "1             830       20.0  ...   1714   N24211    LGA  IAH    227.0   \n",
       "2             850       33.0  ...   1141   N619AA    JFK  MIA    160.0   \n",
       "3            1022      -18.0  ...    725   N804JB    JFK  BQN    183.0   \n",
       "4             837      -25.0  ...    461   N668DN    LGA  ATL    116.0   \n",
       "\n",
       "   distance  hour  minute            time_hour                    name  \n",
       "0      1400     5      15  2013-01-01 05:00:00   United Air Lines Inc.  \n",
       "1      1416     5      29  2013-01-01 05:00:00   United Air Lines Inc.  \n",
       "2      1089     5      40  2013-01-01 05:00:00  American Airlines Inc.  \n",
       "3      1576     5      45  2013-01-01 05:00:00         JetBlue Airways  \n",
       "4       762     6       0  2013-01-01 06:00:00    Delta Air Lines Inc.  \n",
       "\n",
       "[5 rows x 21 columns]"
      ]
     },
     "execution_count": 5,
     "metadata": {},
     "output_type": "execute_result"
    }
   ],
   "source": [
    "con.execute('SELECT * FROM bronze LIMIT 5').fetchdf()"
   ]
  },
  {
   "cell_type": "markdown",
   "id": "1458c947",
   "metadata": {},
   "source": [
    "### Performing Data Cleaning in Silver Layer\n"
   ]
  },
  {
   "cell_type": "code",
   "execution_count": 6,
   "id": "eeed9b19",
   "metadata": {},
   "outputs": [
    {
     "name": "stdout",
     "output_type": "stream",
     "text": [
      "Number of rows with null values before cleaning: 9430\n",
      "Number of duplicate rows before cleaning: 0\n"
     ]
    }
   ],
   "source": [
    "# Count the number of rows with null values in any column before cleaning\n",
    "null_count_before = con.execute('''\n",
    "SELECT COUNT(*) \n",
    "FROM bronze\n",
    "WHERE id IS NULL OR year IS NULL OR month IS NULL OR day IS NULL OR dep_time IS NULL OR sched_dep_time IS NULL OR\n",
    "      dep_delay IS NULL OR arr_time IS NULL OR sched_arr_time IS NULL OR arr_delay IS NULL OR carrier IS NULL OR\n",
    "      flight IS NULL OR tailnum IS NULL OR origin IS NULL OR dest IS NULL OR air_time IS NULL OR distance IS NULL OR\n",
    "      hour IS NULL OR minute IS NULL OR time_hour IS NULL OR name IS NULL\n",
    "''').fetchone()[0]\n",
    "\n",
    "print(\"Number of rows with null values before cleaning:\", null_count_before)\n",
    "\n",
    "# Count the number of duplicate rows before cleaning\n",
    "duplicate_count_before = con.execute('''\n",
    "SELECT COUNT(*) - COUNT(DISTINCT id) \n",
    "FROM bronze\n",
    "''').fetchone()[0]\n",
    "\n",
    "print(\"Number of duplicate rows before cleaning:\", duplicate_count_before)\n",
    "\n"
   ]
  },
  {
   "cell_type": "code",
   "execution_count": 7,
   "id": "c40220cc",
   "metadata": {},
   "outputs": [
    {
     "data": {
      "text/plain": [
       "<duckdb.duckdb.DuckDBPyConnection at 0x21dca6c9ab0>"
      ]
     },
     "execution_count": 7,
     "metadata": {},
     "output_type": "execute_result"
    }
   ],
   "source": [
    "# creating new table where all non-null values will be saved. \n",
    "# as duck db doesn't allows deletion and renaming of the tables in the database- \n",
    "\n",
    "# Create a new table final_bronze with non-null values\n",
    "con.execute('''\n",
    "CREATE TABLE final_bronze AS\n",
    "SELECT *\n",
    "FROM bronze\n",
    "WHERE id IS NOT NULL AND year IS NOT NULL AND month IS NOT NULL AND day IS NOT NULL AND dep_time IS NOT NULL AND sched_dep_time IS NOT NULL AND\n",
    "      dep_delay IS NOT NULL AND arr_time IS NOT NULL AND sched_arr_time IS NOT NULL AND arr_delay IS NOT NULL AND carrier IS NOT NULL AND\n",
    "      flight IS NOT NULL AND tailnum IS NOT NULL AND origin IS NOT NULL AND dest IS NOT NULL AND air_time IS NOT NULL AND distance IS NOT NULL AND\n",
    "      hour IS NOT NULL AND minute IS NOT NULL AND time_hour IS NOT NULL AND name IS NOT NULL\n",
    "''')\n"
   ]
  },
  {
   "cell_type": "markdown",
   "id": "addbbb65",
   "metadata": {},
   "source": [
    "## For Gold Layer\n",
    "### Creating fact and dimensions table "
   ]
  },
  {
   "cell_type": "markdown",
   "id": "a53bc273",
   "metadata": {},
   "source": [
    "#### Creating dimensions table first"
   ]
  },
  {
   "cell_type": "code",
   "execution_count": 8,
   "id": "4f563b33",
   "metadata": {
    "scrolled": false
   },
   "outputs": [
    {
     "data": {
      "text/plain": [
       "<duckdb.duckdb.DuckDBPyConnection at 0x21dca6c9ab0>"
      ]
     },
     "execution_count": 8,
     "metadata": {},
     "output_type": "execute_result"
    }
   ],
   "source": [
    "# Create dimension tables\n",
    "con.execute('''\n",
    "CREATE TABLE dim_airports (\n",
    "    airport_id INTEGER PRIMARY KEY,\n",
    "    airport_name VARCHAR\n",
    ")\n",
    "''')\n",
    "con.execute('''\n",
    "CREATE TABLE dim_flight_schedule (\n",
    "    id INTEGER PRIMARY KEY,\n",
    "    dep_time INTEGER,\n",
    "    sched_dep_time INTEGER,\n",
    "    dep_delay INTEGER,\n",
    "    arr_time INTEGER,\n",
    "    sched_arr_time INTEGER,\n",
    "    arr_delay INTEGER\n",
    ")\n",
    "''')\n",
    "con.execute('''\n",
    "CREATE TABLE dim_airline (\n",
    "    airline_id INTEGER PRIMARY KEY,\n",
    "    carrier_code VARCHAR,\n",
    "    airline_name VARCHAR\n",
    ")\n",
    "''')\n",
    "con.execute('''\n",
    "CREATE TABLE dim_aircraft (\n",
    "    aircraft_id INTEGER PRIMARY KEY,\n",
    "    tailnum VARCHAR\n",
    ")\n",
    "''')\n"
   ]
  },
  {
   "cell_type": "markdown",
   "id": "f12a830a",
   "metadata": {},
   "source": [
    "#### now populate the dimensions table - "
   ]
  },
  {
   "cell_type": "code",
   "execution_count": 9,
   "id": "6ae00c44",
   "metadata": {},
   "outputs": [
    {
     "data": {
      "text/plain": [
       "<duckdb.duckdb.DuckDBPyConnection at 0x21dca6c9ab0>"
      ]
     },
     "execution_count": 9,
     "metadata": {},
     "output_type": "execute_result"
    }
   ],
   "source": [
    "\n",
    "# Populate dimension table dim_airports\n",
    "con.execute('''\n",
    "INSERT INTO dim_airports (airport_name)\n",
    "SELECT origin AS airport_name FROM final_bronze WHERE origin IS NOT NULL\n",
    "''')\n",
    "\n",
    "# dim_flight_schedule\n",
    "con.execute('''\n",
    "INSERT INTO dim_flight_schedule (id, dep_time, sched_dep_time, dep_delay, arr_time, sched_arr_time, arr_delay)\n",
    "SELECT id, dep_time, sched_dep_time, dep_delay, arr_time, sched_arr_time, arr_delay FROM final_bronze\n",
    "''')\n",
    "\n",
    "# dim_airline\n",
    "con.execute('''\n",
    "INSERT INTO dim_airline (carrier_code, airline_name)\n",
    "VALUES\n",
    "    ('WN', 'Southwest Airlines Co.'), ('DL', 'Delta Air Lines Inc.'), ('AA', 'American Airlines Inc.'),\n",
    "    ('UA', 'United Air Lines Inc.'),  ('B6', 'JetBlue Airways'), ('AS', 'Alaska Airlines Inc.'),\n",
    "    ('NK', 'Spirit Air Lines'), ('G4', 'Allegiant Air'), ('F9', 'Frontier Airlines Inc.'),\n",
    "    ('HA', 'Hawaiian Airlines Inc.'), ('SY', 'Sun Country Airlines d/b/a MN Airlines'),\n",
    "    ('VX', 'Virgin America')\n",
    "''')\n",
    "\n",
    "# dim_aircraft\n",
    "con.execute('''\n",
    "INSERT INTO dim_aircraft (tailnum)\n",
    "SELECT DISTINCT tailnum FROM final_bronze\n",
    "''')\n"
   ]
  },
  {
   "cell_type": "markdown",
   "id": "6cea8faf",
   "metadata": {},
   "source": [
    "### Creating the fact table - "
   ]
  },
  {
   "cell_type": "code",
   "execution_count": 14,
   "id": "feb1a042",
   "metadata": {},
   "outputs": [
    {
     "data": {
      "text/plain": [
       "<duckdb.duckdb.DuckDBPyConnection at 0x21dca6c9ab0>"
      ]
     },
     "execution_count": 14,
     "metadata": {},
     "output_type": "execute_result"
    }
   ],
   "source": [
    "# Create fact table without foreign key constraints\n",
    "con.execute('''\n",
    "CREATE TABLE fact_flights (\n",
    "    flight_id INTEGER,\n",
    "    flight_date DATE,\n",
    "    carrier_code VARCHAR,\n",
    "    origin_airport_id INTEGER,\n",
    "    dest_airport_id INTEGER,\n",
    "    dep_delay INTEGER,\n",
    "    arr_delay INTEGER,\n",
    "    air_time INTEGER,\n",
    "    distance INTEGER\n",
    ")\n",
    "''')\n",
    "\n",
    "# Populate fact table\n",
    "con.execute('''\n",
    "INSERT INTO fact_flights (flight_date, carrier_code, origin_airport_id, dest_airport_id, dep_delay, arr_delay, air_time, distance)\n",
    "SELECT\n",
    "    CAST(time_hour AS DATE) AS flight_date,\n",
    "    carrier AS carrier_code,\n",
    "    (SELECT airport_id FROM dim_airports WHERE airport_name = origin) AS origin_airport_id,\n",
    "    (SELECT airport_id FROM dim_airports WHERE airport_name = dest) AS dest_airport_id,\n",
    "    dep_delay,\n",
    "    arr_delay,\n",
    "    air_time,\n",
    "    distance\n",
    "FROM final_bronze\n",
    "''')\n"
   ]
  },
  {
   "cell_type": "markdown",
   "id": "d93895f4",
   "metadata": {},
   "source": [
    "### Exporting all the data as csv"
   ]
  },
  {
   "cell_type": "code",
   "execution_count": 15,
   "id": "d10b7990",
   "metadata": {},
   "outputs": [
    {
     "name": "stdout",
     "output_type": "stream",
     "text": [
      "Data exported successfully\n"
     ]
    }
   ],
   "source": [
    "# Export dimension tables to CSV\n",
    "dim_airports_df = con.execute(\"SELECT * FROM dim_airports\").fetchdf()\n",
    "dim_airports_df.to_csv(\"dim_airports.csv\", index=False)\n",
    "\n",
    "dim_flight_schedule_df = con.execute(\"SELECT * FROM dim_flight_schedule\").fetchdf()\n",
    "dim_flight_schedule_df.to_csv(\"dim_flight_schedule.csv\", index=False)\n",
    "\n",
    "dim_airline_df = con.execute(\"SELECT * FROM dim_airline\").fetchdf()\n",
    "dim_airline_df.to_csv(\"dim_airline.csv\", index=False)\n",
    "\n",
    "dim_aircraft_df = con.execute(\"SELECT * FROM dim_aircraft\").fetchdf()\n",
    "dim_aircraft_df.to_csv(\"dim_aircraft.csv\", index=False)\n",
    "\n",
    "# Export fact table to CSV\n",
    "fact_flights_df = con.execute(\"SELECT * FROM fact_flights\").fetchdf()\n",
    "fact_flights_df.to_csv(\"fact_flights.csv\", index=False)\n",
    "\n",
    "print(\"Data exported successfully\")"
   ]
  },
  {
   "cell_type": "code",
   "execution_count": null,
   "id": "7ed4bcc8",
   "metadata": {},
   "outputs": [],
   "source": []
  }
 ],
 "metadata": {
  "kernelspec": {
   "display_name": "Python 3 (ipykernel)",
   "language": "python",
   "name": "python3"
  },
  "language_info": {
   "codemirror_mode": {
    "name": "ipython",
    "version": 3
   },
   "file_extension": ".py",
   "mimetype": "text/x-python",
   "name": "python",
   "nbconvert_exporter": "python",
   "pygments_lexer": "ipython3",
   "version": "3.11.3"
  }
 },
 "nbformat": 4,
 "nbformat_minor": 5
}
